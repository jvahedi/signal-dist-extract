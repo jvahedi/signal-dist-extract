{
 "cells": [
  {
   "cell_type": "code",
   "execution_count": 57,
   "metadata": {
    "ExecuteTime": {
     "end_time": "2022-01-15T01:38:38.079379Z",
     "start_time": "2022-01-15T01:38:38.055653Z"
    }
   },
   "outputs": [],
   "source": [
    "import numpy as np\n",
    "import matplotlib.pyplot as plt\n",
    "import warnings\n",
    "warnings.filterwarnings(\"ignore\")"
   ]
  },
  {
   "cell_type": "markdown",
   "metadata": {},
   "source": [
    "### Ideas:\n",
    "    1. initalizing guess:\n",
    "        A. rejection sampling relative to pdf\n",
    "        B. convultion prior to rejection sampling "
   ]
  },
  {
   "cell_type": "code",
   "execution_count": 2,
   "metadata": {
    "ExecuteTime": {
     "end_time": "2022-01-15T00:30:51.564821Z",
     "start_time": "2022-01-15T00:30:51.509409Z"
    }
   },
   "outputs": [],
   "source": [
    "#Special Ditribution Function\n",
    "#'v' : array float: mu center of normal\n",
    "#'s' : float: sigma standard deviation\n",
    "def pdf(x,v,s):\n",
    "    dist = 0\n",
    "    num = len(v)\n",
    "    for m in v:\n",
    "        dist = dist + 1/(np.sqrt(2*np.pi)*s)*np.exp(-.5*((x-m)/s)**2)\n",
    "    return dist/num\n",
    "\n",
    "\n",
    "def Pdf(x,m,s):\n",
    "    return 1/(np.sqrt(2*np.pi)*s)*np.exp(-.5*((x-m)/s)**2)"
   ]
  },
  {
   "cell_type": "code",
   "execution_count": 3,
   "metadata": {
    "ExecuteTime": {
     "end_time": "2022-01-15T00:30:51.773172Z",
     "start_time": "2022-01-15T00:30:51.737360Z"
    }
   },
   "outputs": [],
   "source": [
    "#Expectation Maximization Algorithm 1D using pdf\n",
    "#Assumption: variance of all normals is the same\n",
    "#INPUTS:\n",
    "# 'x' array : positions for probability density values\n",
    "# 'p': array : probabilty density values over 'x'\n",
    "# 'guess': array :initial 'k' guesses of centers of normals\n",
    "# 'ite': int : number of iterations for EM \n",
    "#OUTPUTS:\n",
    "# 'mu' : array : values of centers of normal\n",
    "def EM(x,p,guess,ite):\n",
    "    k = len(guess)\n",
    "    n = len(x)\n",
    "    \n",
    "    #likelihood function (includes prior)\n",
    "    #alt: prior = could np.sum(p*likeli)/np.sum(p)\n",
    "    likeli = np.zeros((k,n))\n",
    "    \n",
    "    for j in range(ite):\n",
    "        for i in range(k):\n",
    "            likeli[i,:] = p*Pdf(x,guess[i],1)\n",
    "        norm = np.sum(likeli, axis = 0)\n",
    "        likeli = likeli/norm\n",
    "        \n",
    "        #weighted center of mass given likeli with prior\n",
    "        guess = np.nansum(likeli*x*p, axis = 1)/np.nansum(likeli*p, axis = 1)\n",
    "    mu = guess\n",
    "    return mu\n",
    "\n",
    "#Includes graphical output\n",
    "def EM_graph(x,p,guess,ite):\n",
    "    k = len(guess)\n",
    "    n = len(x)\n",
    "    \n",
    "    plt.title('Intial distibution with guesses')\n",
    "    plt.plot(x,p)\n",
    "    plt.vlines(guess, 0, np.max(p)*1.02, 'b')\n",
    "    plt.show()\n",
    "    \n",
    "    #likelihood function (includes prior)\n",
    "    #alt: prior = could np.sum(p*likeli)/np.sum(p)\n",
    "    likeli = np.zeros((k,n))\n",
    "    \n",
    "    plt.title('Probability within set and sequence of centers')\n",
    "    plt.plot(x,p)\n",
    "    plt.vlines(guess, 0, np.max(p)*1.02, 'b')\n",
    "    \n",
    "    for j in range(ite):\n",
    "        for i in range(k):\n",
    "            likeli[i,:] = p*Pdf(x,guess[i],1)\n",
    "        norm = np.sum(likeli, axis = 0)\n",
    "        likeli = likeli/norm\n",
    "        \n",
    "        #weighted center of mass given likeli with prior\n",
    "        guess = np.nansum(likeli*x*p, axis = 1)/np.nansum(likeli*p, axis = 1)\n",
    "        #plt.vlines(guess, 0, np.max(p)*1.02, 'r')\n",
    "    for l in range(k):\n",
    "        plt.plot(x,likeli[l])\n",
    "    plt.show()\n",
    "    mu = guess\n",
    "    return mu"
   ]
  },
  {
   "cell_type": "code",
   "execution_count": 81,
   "metadata": {
    "ExecuteTime": {
     "end_time": "2022-01-15T02:14:52.256671Z",
     "start_time": "2022-01-15T02:14:52.234668Z"
    }
   },
   "outputs": [],
   "source": [
    "#Chooses BEST of a number of randomly intialized\n",
    "#Expectation Maximization Algorithm (1D using pdf)\n",
    "#Assumption: variance of all normals is the same\n",
    "#INPUTS:\n",
    "# 'x' array : positions for probability density values\n",
    "# 'p': array : probabilty density values over 'x'\n",
    "# 'k': int : number of centers to find\n",
    "# 'ite': int : number of subiterations for EM \n",
    "# 'num': int : number of EM runs in set to choose best from\n",
    "#OUTPUTS:\n",
    "# 'm' : array : best from set of values for centers of normal\n",
    "# 'l' : float : L_2 loss on returned solution\n",
    "def best_EM(x,p,k,ite,num,dist = False):\n",
    "    #matrix with rows of centers after each individual EM run\n",
    "    M = np.empty((num,k))\n",
    "    \n",
    "    #L_2 loss of output\n",
    "    L = np.empty(num)\n",
    "    \n",
    "    for j in range(num):\n",
    "        g = np.random.rand(k)*100\n",
    "        m = EM(x,p,g,ite)\n",
    "        P = pdf(x,m,s)\n",
    "        M[j,:] = m\n",
    "        L[j] = np.mean((p-P)**2)\n",
    "    ind = np.argmin(L)\n",
    "    if dist == True:\n",
    "        return L\n",
    "    else:\n",
    "        return M[ind], L[ind]\n",
    "\n",
    "#OUTPUTS:\n",
    "# 'M' : matrix (num,k) : num many soltions of size k\n",
    "# 'L' : array : L_2 loss of each row of solutions\n",
    "def list_EM(x,p,k,ite,num):\n",
    "    #matrix with rows of centers after each individual EM run\n",
    "    M = np.empty((num,k))\n",
    "    \n",
    "    #L_2 loss of output\n",
    "    L = np.empty(num)\n",
    "    \n",
    "    for j in range(num):\n",
    "        g = np.random.rand(k)*100\n",
    "        m = EM(x,p,g,ite)\n",
    "        P = pdf(x,m,s)\n",
    "        M[j,:] = m\n",
    "        L[j] = np.mean((p-P)**2)\n",
    "    return M, L"
   ]
  },
  {
   "cell_type": "code",
   "execution_count": null,
   "metadata": {
    "ExecuteTime": {
     "start_time": "2022-01-15T02:37:47.377Z"
    },
    "scrolled": true
   },
   "outputs": [
    {
     "data": {
      "image/png": "[encoded data removed]",
      "text/plain": [
       "<Figure size 432x288 with 1 Axes>"
      ]
     },
     "metadata": {
      "needs_background": "light"
     },
     "output_type": "display_data"
    }
   ],
   "source": [
    "#number of normals\n",
    "k = 30\n",
    "#lower bound for possible centers\n",
    "L = 0\n",
    "#simulating true centers\n",
    "grades = L + np.random.rand(k)*(100-L)\n",
    "\n",
    "#number of points to simulate distribution\n",
    "n = 10000\n",
    "#variance of simulated normals\n",
    "s = 1\n",
    "#discrete positions\n",
    "x = np.linspace(0,100,n)\n",
    "#pdf values at positions\n",
    "p = pdf(x,grades,s)\n",
    "\n",
    "plt.title('Simulated Distribution')\n",
    "plt.plot(x,p)\n",
    "plt.show()\n",
    "\n",
    "#number of sub steps\n",
    "I = 15\n",
    "#number of solutions\n",
    "N = 100\n",
    "#Pull a list of soultions and losses\n",
    "M, L = list_EM(x,p,k,I,N)\n",
    "\n",
    "plt.title('Distribution of Quality of Solutions')\n",
    "plt.hist(L, bins = 3*int(np.sqrt(N)))\n",
    "plt.show()\n",
    "\n",
    "#Best Solution Graph\n",
    "ind = np.argmin(L)\n",
    "\n",
    "m = M[ind]\n",
    "P = pdf(x,m,s)\n",
    "\n",
    "plt.title('Best Solution Graph')\n",
    "plt.plot(x,p)\n",
    "plt.plot(x,P)\n",
    "#plt.scatter(grades, np.zeros(k))\n",
    "#plt.scatter(m, np.zeros(k), color = 'r')\n",
    "plt.show()\n",
    "print('Best Loss:',l)\n",
    "\n",
    "\n",
    "# #Simulation of solutions\n",
    "# for q in range(10):\n",
    "#     g = np.random.rand(k)*100\n",
    "#     #print(np.sort(EM_graph(x,p,g,200)))\n",
    "#     #print(np.sort(grades))\n",
    "#     m = EM(x,p,g,800)\n",
    "#     P = pdf(x,m,s)\n",
    "#     plt.plot(x,p)\n",
    "#     plt.plot(x,P)\n",
    "#     plt.scatter(grades, np.zeros(k))\n",
    "#     plt.scatter(g, np.zeros(k))\n",
    "#     plt.scatter(m, np.zeros(k), color = 'r')\n",
    "#     plt.show()\n",
    "#     print(np.mean((p-P)**2))\n",
    "# #print(np.sum(pdf(x,EM(x,p,g,200),s))*dx,np.sum(p)*dx)"
   ]
  }
 ],
 "metadata": {
  "kernelspec": {
   "display_name": "Python 3",
   "language": "python",
   "name": "python3"
  },
  "language_info": {
   "codemirror_mode": {
    "name": "ipython",
    "version": 3
   },
   "file_extension": ".py",
   "mimetype": "text/x-python",
   "name": "python",
   "nbconvert_exporter": "python",
   "pygments_lexer": "ipython3",
   "version": "3.8.5"
  },
  "varInspector": {
   "cols": {
    "lenName": 16,
    "lenType": 16,
    "lenVar": 40
   },
   "kernels_config": {
    "python": {
     "delete_cmd_postfix": "",
     "delete_cmd_prefix": "del ",
     "library": "var_list.py",
     "varRefreshCmd": "print(var_dic_list())"
    },
    "r": {
     "delete_cmd_postfix": ") ",
     "delete_cmd_prefix": "rm(",
     "library": "var_list.r",
     "varRefreshCmd": "cat(var_dic_list()) "
    }
   },
   "types_to_exclude": [
    "module",
    "function",
    "builtin_function_or_method",
    "instance",
    "_Feature"
   ],
   "window_display": false
  }
 },
 "nbformat": 4,
 "nbformat_minor": 4
}

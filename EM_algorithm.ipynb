{
 "cells": [
  {
   "cell_type": "code",
   "execution_count": 57,
   "metadata": {
    "ExecuteTime": {
     "end_time": "2022-01-15T01:38:38.079379Z",
     "start_time": "2022-01-15T01:38:38.055653Z"
    }
   },
   "outputs": [],
   "source": [
    "import numpy as np\n",
    "import matplotlib.pyplot as plt\n",
    "import warnings\n",
    "warnings.filterwarnings(\"ignore\")"
   ]
  },
  {
   "cell_type": "markdown",
   "metadata": {},
   "source": [
    "### Ideas:\n",
    "    1. initalizing guess:\n",
    "        A. rejection sampling relative to pdf\n",
    "        B. convultion prior to rejection sampling \n",
    "    2. issues:\n",
    "        A. x space should extend beyond possible means\n",
    "        B. extension should be by some sigma"
   ]
  },
  {
   "cell_type": "code",
   "execution_count": 2,
   "metadata": {
    "ExecuteTime": {
     "end_time": "2022-01-15T00:30:51.564821Z",
     "start_time": "2022-01-15T00:30:51.509409Z"
    }
   },
   "outputs": [],
   "source": [
    "#Special Ditribution Function\n",
    "#'v' : array float: mu center of normal\n",
    "#'s' : float: sigma standard deviation\n",
    "def pdf(x,v,s):\n",
    "    dist = 0\n",
    "    num = len(v)\n",
    "    for m in v:\n",
    "        dist = dist + 1/(np.sqrt(2*np.pi)*s)*np.exp(-.5*((x-m)/s)**2)\n",
    "    return dist/num\n",
    "\n",
    "\n",
    "def Pdf(x,m,s):\n",
    "    return 1/(np.sqrt(2*np.pi)*s)*np.exp(-.5*((x-m)/s)**2)"
   ]
  },
  {
   "cell_type": "code",
   "execution_count": 3,
   "metadata": {
    "ExecuteTime": {
     "end_time": "2022-01-15T00:30:51.773172Z",
     "start_time": "2022-01-15T00:30:51.737360Z"
    }
   },
   "outputs": [],
   "source": [
    "#Expectation Maximization Algorithm 1D using pdf\n",
    "#Assumption: variance of all normals is the same\n",
    "#INPUTS:\n",
    "# 'x' array : positions for probability density values\n",
    "# 'p': array : probabilty density values over 'x'\n",
    "# 'guess': array :initial 'k' guesses of centers of normals\n",
    "# 'ite': int : number of iterations for EM \n",
    "#OUTPUTS:\n",
    "# 'mu' : array : values of centers of normal\n",
    "def EM(x,p,guess,ite):\n",
    "    k = len(guess)\n",
    "    n = len(x)\n",
    "    \n",
    "    #likelihood function (includes prior)\n",
    "    #alt: prior = could np.sum(p*likeli)/np.sum(p)\n",
    "    likeli = np.zeros((k,n))\n",
    "    \n",
    "    for j in range(ite):\n",
    "        for i in range(k):\n",
    "            likeli[i,:] = p*Pdf(x,guess[i],1)\n",
    "        norm = np.sum(likeli, axis = 0)\n",
    "        likeli = likeli/norm\n",
    "        \n",
    "        #weighted center of mass given likeli with prior\n",
    "        guess = np.nansum(likeli*x*p, axis = 1)/np.nansum(likeli*p, axis = 1)\n",
    "    mu = guess\n",
    "    return mu\n",
    "\n",
    "#Includes graphical output\n",
    "def EM_graph(x,p,guess,ite):\n",
    "    k = len(guess)\n",
    "    n = len(x)\n",
    "    \n",
    "    plt.title('Intial distibution with guesses')\n",
    "    plt.plot(x,p)\n",
    "    plt.vlines(guess, 0, np.max(p)*1.02, 'b')\n",
    "    plt.show()\n",
    "    \n",
    "    #likelihood function (includes prior)\n",
    "    #alt: prior = could np.sum(p*likeli)/np.sum(p)\n",
    "    likeli = np.zeros((k,n))\n",
    "    \n",
    "    plt.title('Probability within set and sequence of centers')\n",
    "    plt.plot(x,p)\n",
    "    plt.vlines(guess, 0, np.max(p)*1.02, 'b')\n",
    "    \n",
    "    for j in range(ite):\n",
    "        for i in range(k):\n",
    "            likeli[i,:] = p*Pdf(x,guess[i],1)\n",
    "        norm = np.sum(likeli, axis = 0)\n",
    "        likeli = likeli/norm\n",
    "        \n",
    "        #weighted center of mass given likeli with prior\n",
    "        guess = np.nansum(likeli*x*p, axis = 1)/np.nansum(likeli*p, axis = 1)\n",
    "        #plt.vlines(guess, 0, np.max(p)*1.02, 'r')\n",
    "    for l in range(k):\n",
    "        plt.plot(x,likeli[l])\n",
    "    plt.show()\n",
    "    mu = guess\n",
    "    return mu"
   ]
  },
  {
   "cell_type": "code",
   "execution_count": 110,
   "metadata": {
    "ExecuteTime": {
     "end_time": "2022-01-15T05:08:07.393418Z",
     "start_time": "2022-01-15T05:08:07.358315Z"
    }
   },
   "outputs": [],
   "source": [
    "#Chooses BEST of a number of randomly intialized\n",
    "#Expectation Maximization Algorithm (1D using pdf)\n",
    "#Assumption: variance of all normals is the same\n",
    "#INPUTS:\n",
    "# 'x' array : positions for probability density values\n",
    "# 'p': array : probabilty density values over 'x'\n",
    "# 'k': int : number of centers to find\n",
    "# 'ite': int : number of subiterations for EM \n",
    "# 'num': int : number of EM runs in set to choose best from\n",
    "#OUTPUTS:\n",
    "# 'm' : array : best from set of values for centers of normal\n",
    "# 'l' : float : L_2 loss on returned solution\n",
    "def best_EM(x,p,k,ite,num,dist = False, B = 0):\n",
    "    #matrix with rows of centers after each individual EM run\n",
    "    M = np.empty((num,k))\n",
    "    \n",
    "    #L_2 loss of output\n",
    "    L = np.empty(num)\n",
    "    \n",
    "    for j in range(num):\n",
    "        g = B + np.random.rand(k)*(100-B)\n",
    "        m = EM(x,p,g,ite)\n",
    "        P = pdf(x,m,s)\n",
    "        M[j,:] = m\n",
    "        L[j] = np.mean((p-P)**2)\n",
    "    ind = np.argmin(L)\n",
    "    if dist == True:\n",
    "        return L\n",
    "    else:\n",
    "        return M[ind], L[ind]\n",
    "\n",
    "#OUTPUTS:\n",
    "# 'M' : matrix (num,k) : num many soltions of size k\n",
    "# 'L' : array : L_2 loss of each row of solutions\n",
    "def list_EM(x,p,k,ite,num):\n",
    "    #matrix with rows of centers after each individual EM run\n",
    "    M = np.empty((num,k))\n",
    "    \n",
    "    #L_2 loss of output\n",
    "    L = np.empty(num)\n",
    "    \n",
    "    for j in range(num):\n",
    "        g = np.random.rand(k)*100\n",
    "        m = EM(x,p,g,ite)\n",
    "        P = pdf(x,m,s)\n",
    "        M[j,:] = m\n",
    "        L[j] = np.mean((p-P)**2)\n",
    "    return M, L"
   ]
  },
  {
   "cell_type": "code",
   "execution_count": 87,
   "metadata": {
    "ExecuteTime": {
     "end_time": "2022-01-15T02:49:50.294195Z",
     "start_time": "2022-01-15T02:45:17.610426Z"
    },
    "scrolled": true
   },
   "outputs": [
    {
     "data": {
      "image/png": "[encoded data removed]",
      "text/plain": [
       "<Figure size 432x288 with 1 Axes>"
      ]
     },
     "metadata": {
      "needs_background": "light"
     },
     "output_type": "display_data"
    },
    {
     "data": {
      "image/png": "[encoded data removed]",
      "text/plain": [
       "<Figure size 432x288 with 1 Axes>"
      ]
     },
     "metadata": {
      "needs_background": "light"
     },
     "output_type": "display_data"
    },
    {
     "data": {
      "image/png": "[encoded data removed]",
      "text/plain": [
       "<Figure size 432x288 with 1 Axes>"
      ]
     },
     "metadata": {
      "needs_background": "light"
     },
     "output_type": "display_data"
    },
    {
     "name": "stdout",
     "output_type": "stream",
     "text": [
      "Best Loss: 1.0985412002463835e-05\n"
     ]
    }
   ],
   "source": [
    "#number of normals\n",
    "k = 10\n",
    "#lower bound for possible centers\n",
    "L = 0\n",
    "#simulating true centers\n",
    "grades = L + np.random.rand(k)*(100-L)\n",
    "\n",
    "#number of points to simulate distribution\n",
    "n = 10000\n",
    "#variance of simulated normals\n",
    "s = 1.8\n",
    "#discrete positions\n",
    "x = np.linspace(0,100,n)\n",
    "#pdf values at positions\n",
    "p = pdf(x,grades,s)\n",
    "\n",
    "plt.title('Simulated Distribution')\n",
    "plt.plot(x,p)\n",
    "plt.show()\n",
    "\n",
    "#number of sub steps\n",
    "I = 20\n",
    "#number of solutions\n",
    "N = 1000\n",
    "#Pull a list of soultions and losses\n",
    "M, L = list_EM(x,p,k,I,N)\n",
    "\n",
    "plt.title('Distribution of Quality of Solutions')\n",
    "plt.hist(L, bins = 3*int(np.sqrt(N)))\n",
    "plt.show()\n",
    "\n",
    "#Best Solution Graph\n",
    "ind = np.argmin(L)\n",
    "\n",
    "m = M[ind]\n",
    "P = pdf(x,m,s)\n",
    "\n",
    "plt.title('Best Solution Graph')\n",
    "plt.plot(x,p)\n",
    "plt.plot(x,P)\n",
    "#plt.scatter(grades, np.zeros(k))\n",
    "#plt.scatter(m, np.zeros(k), color = 'r')\n",
    "plt.show()\n",
    "print('Best Loss:',l)\n",
    "\n",
    "\n",
    "# #Simulation of solutions\n",
    "# for q in range(10):\n",
    "#     g = np.random.rand(k)*100\n",
    "#     #print(np.sort(EM_graph(x,p,g,200)))\n",
    "#     #print(np.sort(grades))\n",
    "#     m = EM(x,p,g,800)\n",
    "#     P = pdf(x,m,s)\n",
    "#     plt.plot(x,p)\n",
    "#     plt.plot(x,P)\n",
    "#     plt.scatter(grades, np.zeros(k))\n",
    "#     plt.scatter(g, np.zeros(k))\n",
    "#     plt.scatter(m, np.zeros(k), color = 'r')\n",
    "#     plt.show()\n",
    "#     print(np.mean((p-P)**2))\n",
    "# #print(np.sum(pdf(x,EM(x,p,g,200),s))*dx,np.sum(p)*dx)"
   ]
  },
  {
   "cell_type": "code",
   "execution_count": 116,
   "metadata": {
    "ExecuteTime": {
     "end_time": "2022-01-15T05:14:58.144974Z",
     "start_time": "2022-01-15T05:13:45.073586Z"
    }
   },
   "outputs": [
    {
     "data": {
      "image/png": "[encoded data removed]",
      "text/plain": [
       "<Figure size 432x288 with 1 Axes>"
      ]
     },
     "metadata": {
      "needs_background": "light"
     },
     "output_type": "display_data"
    },
    {
     "name": "stdout",
     "output_type": "stream",
     "text": [
      "8.903291501631599e-06\n"
     ]
    }
   ],
   "source": [
    "#Convolution\n",
    "g_student = 100*np.array([0.66413662, 0.76660342, 0.86622391, 0.88045541, 0.82163188,\n",
    "       0.9259962 , 0.91461101, 0.88614801, 0.85768501, 1.00948767,\n",
    "       0.79696395, 0.74003795, 0.83586338, 0.86907021])\n",
    "k = len(g_student)\n",
    "y = pdf(x,g_student,1.5)\n",
    "#Deconvolution\n",
    "m, l = best_EM(x,y,k,20,400, False, B = 60)\n",
    "Y = pdf(x,m,1.5)\n",
    "\n",
    "#Graph\n",
    "plt.plot(x,y)\n",
    "plt.plot(x,Y)\n",
    "plt.title('Best Solution Graph')\n",
    "plt.show()\n",
    "print(l)"
   ]
  },
  {
   "cell_type": "code",
   "execution_count": 118,
   "metadata": {
    "ExecuteTime": {
     "end_time": "2022-01-15T05:15:56.852841Z",
     "start_time": "2022-01-15T05:15:56.835635Z"
    }
   },
   "outputs": [
    {
     "name": "stdout",
     "output_type": "stream",
     "text": [
      "[66.39009324 73.59063149 76.48696305 79.44834468 81.91090012 83.82295371\n",
      " 85.35259139 86.82652911 86.96159889 88.25167701 89.54448954 91.3842876\n",
      " 93.24076704 98.98746074]\n",
      "[ 66.413662  74.003795  76.660342  79.696395  82.163188  83.586338\n",
      "  85.768501  86.622391  86.907021  88.045541  88.614801  91.461101\n",
      "  92.59962  100.948767]\n"
     ]
    }
   ],
   "source": [
    "print(np.sort(m))\n",
    "print(np.sort(g_student))"
   ]
  },
  {
   "cell_type": "code",
   "execution_count": 119,
   "metadata": {
    "ExecuteTime": {
     "end_time": "2022-01-15T05:17:07.768587Z",
     "start_time": "2022-01-15T05:17:07.752746Z"
    }
   },
   "outputs": [
    {
     "data": {
      "text/plain": [
       "0.01"
      ]
     },
     "execution_count": 119,
     "metadata": {},
     "output_type": "execute_result"
    }
   ],
   "source": [
    "dx = 100/n\n",
    "dx"
   ]
  },
  {
   "cell_type": "code",
   "execution_count": 120,
   "metadata": {
    "ExecuteTime": {
     "end_time": "2022-01-15T05:17:25.479572Z",
     "start_time": "2022-01-15T05:17:25.455447Z"
    }
   },
   "outputs": [
    {
     "data": {
      "text/plain": [
       "0.9473777948719349"
      ]
     },
     "execution_count": 120,
     "metadata": {},
     "output_type": "execute_result"
    }
   ],
   "source": [
    "np.sum(y)*dx"
   ]
  },
  {
   "cell_type": "code",
   "execution_count": null,
   "metadata": {},
   "outputs": [],
   "source": []
  }
 ],
 "metadata": {
  "kernelspec": {
   "display_name": "Python 3",
   "language": "python",
   "name": "python3"
  },
  "language_info": {
   "codemirror_mode": {
    "name": "ipython",
    "version": 3
   },
   "file_extension": ".py",
   "mimetype": "text/x-python",
   "name": "python",
   "nbconvert_exporter": "python",
   "pygments_lexer": "ipython3",
   "version": "3.8.5"
  },
  "varInspector": {
   "cols": {
    "lenName": 16,
    "lenType": 16,
    "lenVar": 40
   },
   "kernels_config": {
    "python": {
     "delete_cmd_postfix": "",
     "delete_cmd_prefix": "del ",
     "library": "var_list.py",
     "varRefreshCmd": "print(var_dic_list())"
    },
    "r": {
     "delete_cmd_postfix": ") ",
     "delete_cmd_prefix": "rm(",
     "library": "var_list.r",
     "varRefreshCmd": "cat(var_dic_list()) "
    }
   },
   "types_to_exclude": [
    "module",
    "function",
    "builtin_function_or_method",
    "instance",
    "_Feature"
   ],
   "window_display": false
  }
 },
 "nbformat": 4,
 "nbformat_minor": 4
}
